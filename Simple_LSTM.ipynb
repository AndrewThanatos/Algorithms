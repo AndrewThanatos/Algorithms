{
  "cells": [
    {
      "cell_type": "markdown",
      "metadata": {
        "id": "view-in-github",
        "colab_type": "text"
      },
      "source": [
        "<a href=\"https://colab.research.google.com/github/AndrewThanatos/Algorithms/blob/master/Simple_LSTM.ipynb\" target=\"_parent\"><img src=\"https://colab.research.google.com/assets/colab-badge.svg\" alt=\"Open In Colab\"/></a>"
      ]
    },
    {
      "cell_type": "code",
      "execution_count": null,
      "metadata": {
        "id": "l-LadKpVpnvr"
      },
      "outputs": [],
      "source": [
        "import torch.nn as nn\n",
        "import torch.optim as optim\n",
        "import torch\n",
        "from torch.utils.data import Dataset, DataLoader\n",
        "import numpy as np\n",
        "from scipy.io.wavfile import read\n",
        "import matplotlib.pyplot as plt\n",
        "import os\n",
        "import random\n",
        "from tqdm.notebook import tqdm\n",
        "import matplotlib.pyplot as plt\n",
        "import cv2"
      ]
    },
    {
      "cell_type": "code",
      "source": [
        "# video import\n",
        "from IPython.display import HTML\n",
        "from base64 import b64encode"
      ],
      "metadata": {
        "id": "DgsYy-AjL9R_"
      },
      "execution_count": null,
      "outputs": []
    },
    {
      "cell_type": "code",
      "execution_count": null,
      "metadata": {
        "id": "_aEIyDbnq8Ef"
      },
      "outputs": [],
      "source": [
        "DOWNLOADS_PATH = 'drive/MyDrive/Downloads'\n",
        "DATASET_PATH = 'drive/MyDrive/Downloads/Model_Data/Dataset/'\n",
        "VAL_DATASET_PATH = 'drive/MyDrive/Downloads/Model_Data_Eval/Dataset/'\n",
        "ROOT_PATH = 'drive/MyDrive/Diploma/Audio_to_Keypoints'\n",
        "\n",
        "TEST_SPLIT = 0.1\n",
        "FPS = 25                # frame per second\n",
        "SPS = 16000             # samples per second\n",
        "SPF = SPS // FPS         # samples per frame\n",
        "\n",
        "IMAGE_SIZE = 224\n",
        "\n",
        "KP_SIZE = 136\n",
        "\n",
        "ENCODER_HIDDEN_SIZE = 1024\n",
        "DECODER_HIDDEN_SIZE = 1024\n",
        "\n",
        "SAMPLE_NUM_PER_TRAIN = 25\n",
        "\n",
        "DEVICE = torch.device('cuda')"
      ]
    },
    {
      "cell_type": "code",
      "execution_count": null,
      "metadata": {
        "id": "Hev_416wZfSy"
      },
      "outputs": [],
      "source": [
        "BATCH_SIZE = 1\n",
        "LR = 0.001\n",
        "EPOCH = 30"
      ]
    },
    {
      "cell_type": "code",
      "source": [
        "def load_video(path):\n",
        "    video_cap = cv2.VideoCapture(path)\n",
        "    success, image = video_cap.read()\n",
        "    count = 0\n",
        "    success = True\n",
        "    frames = []\n",
        "    while success:\n",
        "        frames.append(image)\n",
        "        success, image = video_cap.read()\n",
        "\n",
        "    frames = np.array(frames)\n",
        "    return frames"
      ],
      "metadata": {
        "id": "943CCa-Qi9lw"
      },
      "execution_count": null,
      "outputs": []
    },
    {
      "cell_type": "code",
      "execution_count": null,
      "metadata": {
        "id": "jKL4bGBHm8wy"
      },
      "outputs": [],
      "source": [
        "def get_samples(data_path, shuffle=True):\n",
        "    result = [int(name) for name in os.listdir(data_path) if name.isnumeric()]\n",
        "    if shuffle:\n",
        "        np.random.shuffle(result)\n",
        "    return result"
      ]
    },
    {
      "cell_type": "code",
      "execution_count": null,
      "metadata": {
        "id": "RZd_EgIOuPNC"
      },
      "outputs": [],
      "source": [
        "class AudioKeypointDataset(Dataset):\n",
        "    def __init__(self, samples, path, use_video=False):\n",
        "        self.data = samples\n",
        "        self.path = path\n",
        "        self.use_video = use_video\n",
        "\n",
        "    def __len__(self):\n",
        "        return len(self.data)\n",
        "    \n",
        "    def __getitem__(self, index):\n",
        "        full_path = self.path + str(self.data[index])\n",
        "        keypoints = np.load(f'{full_path}/{self.data[index]}.npy')\n",
        "        frames = keypoints.shape[0]\n",
        "        keypoints = np.reshape(keypoints, (-1, KP_SIZE))\n",
        "        # Prepare data\n",
        "        keypoints = keypoints\n",
        "\n",
        "        raw_audio = read(f'{full_path}/{self.data[index]}.wav')\n",
        "        audio = raw_audio[1]\n",
        "        # Prepare data\n",
        "        audio = audio / 32767\n",
        "\n",
        "        audio_pf = [audio[i * SPF: (i + 1) * SPF] for i in range(frames)]\n",
        "        audio_np = np.array(audio_pf)\n",
        "        audio_np = audio_np.reshape((frames, -1))\n",
        "        result = {\n",
        "            'keypoints': torch.tensor(keypoints, dtype=torch.float), \n",
        "            'audio': torch.tensor(audio_np, dtype=torch.float)\n",
        "        }\n",
        "        if self.use_video:\n",
        "            result.update({'video': load_video(f'{full_path}/{self.data[index]}.mp4')})\n",
        "\n",
        "        return result"
      ]
    },
    {
      "cell_type": "code",
      "execution_count": null,
      "metadata": {
        "id": "y3HpqnB7qjQh"
      },
      "outputs": [],
      "source": [
        "samples = get_samples(DATASET_PATH)\n",
        "\n",
        "\n",
        "test_len = round(len(samples) * (1 - TEST_SPLIT))\n",
        "train_samples = samples[: test_len]\n",
        "test_samples = samples[test_len: ]"
      ]
    },
    {
      "cell_type": "code",
      "execution_count": null,
      "metadata": {
        "id": "jEYcdKMqodxF"
      },
      "outputs": [],
      "source": [
        "print('Train len =', len(train_samples))\n",
        "print('Test len =', len(test_samples))"
      ]
    },
    {
      "cell_type": "code",
      "execution_count": null,
      "metadata": {
        "id": "u6bGkxL7rJep"
      },
      "outputs": [],
      "source": [
        "train_data = AudioKeypointDataset(samples=train_samples, path=DATASET_PATH)\n",
        "valid_data = AudioKeypointDataset(samples=test_samples, path=DATASET_PATH)\n",
        "\n",
        "train_loader = DataLoader(train_data, \n",
        "                          batch_size=BATCH_SIZE, \n",
        "                          shuffle=True)\n",
        "valid_loader = DataLoader(valid_data, \n",
        "                          batch_size=BATCH_SIZE, \n",
        "                          shuffle=False)"
      ]
    },
    {
      "cell_type": "code",
      "execution_count": null,
      "metadata": {
        "id": "iXg88TmEfpHf"
      },
      "outputs": [],
      "source": [
        "class Encoder(nn.Module):\n",
        "    def __init__(self, input_dim, hidden_dim):\n",
        "        super(Encoder, self).__init__()\n",
        "        self.hidden_dim = hidden_dim\n",
        "\n",
        "        self.lstm = nn.LSTM(input_dim, hidden_dim)\n",
        "\n",
        "    def forward(self, input_data, hidden):\n",
        "        lstm_out, hidden = self.lstm(input_data, hidden)\n",
        "        return lstm_out, hidden\n",
        "\n",
        "    def initHidden(self):\n",
        "        return [torch.zeros(1, 1, ENCODER_HIDDEN_SIZE, device=DEVICE), \n",
        "                torch.zeros(1, 1, ENCODER_HIDDEN_SIZE, device=DEVICE)\n",
        "                ]"
      ]
    },
    {
      "cell_type": "code",
      "execution_count": null,
      "metadata": {
        "id": "kOo_ATyxMr7b"
      },
      "outputs": [],
      "source": [
        "class Decoder(nn.Module):\n",
        "    def __init__(self, input_dim, hidden_dim, output_dim):\n",
        "        super(Decoder, self).__init__()\n",
        "        self.hidden_dim = hidden_dim\n",
        "\n",
        "        self.lstm = nn.LSTM(input_dim, hidden_dim)\n",
        "        self.output_fc = nn.Linear(hidden_dim, output_dim)\n",
        "\n",
        "    def forward(self, input_data, hidden):\n",
        "        lstm_out, hidden = self.lstm(input_data, hidden)\n",
        "        output = self.output_fc(lstm_out)\n",
        "        return output, hidden\n",
        "\n",
        "    def initHidden(self):\n",
        "        return [\n",
        "                torch.zeros(1, 1, DECODER_HIDDEN_SIZE, device=DEVICE),\n",
        "                torch.zeros(1, 1, DECODER_HIDDEN_SIZE, device=DEVICE)\n",
        "                ]"
      ]
    },
    {
      "cell_type": "code",
      "execution_count": null,
      "metadata": {
        "id": "kKDUniSAptjg"
      },
      "outputs": [],
      "source": [
        "class Seq2Seq(nn.Module):\n",
        "    def __init__(self, encoder, decoder):\n",
        "        super(Seq2Seq, self).__init__()\n",
        "        self.encoder = encoder\n",
        "        self.decoder = decoder\n",
        "\n",
        "    def forward(self, audio, target, teacher_force_ratio=0.5):\n",
        "        \n",
        "        hidden = encoder.initHidden()\n",
        "        for i in range(audio.shape[1]):\n",
        "            audio_sample = audio[0, i, :].view(1, 1, SPF)\n",
        "            \n",
        "            encoder_output, hidden = self.encoder(audio_sample, hidden)\n",
        "\n",
        "        target_len = target.shape[1]\n",
        "        outputs = torch.zeros(1, 0, KP_SIZE).to(DEVICE)\n",
        "        kp_input = target[0, 0]\n",
        "        output = kp_input\n",
        "\n",
        "        for i in range(1, target_len):\n",
        "            kp_input = target[0, i - 1] if random.random() < teacher_force_ratio else output\n",
        "            output, hidden = self.decoder(kp_input.view(1, 1, KP_SIZE), hidden)\n",
        "            outputs = torch.cat((outputs, output), 1)\n",
        "\n",
        "        return outputs\n"
      ]
    },
    {
      "cell_type": "code",
      "execution_count": null,
      "metadata": {
        "id": "PfDIcjca_gEm"
      },
      "outputs": [],
      "source": [
        "encoder = Encoder(SPF, ENCODER_HIDDEN_SIZE).to(DEVICE)\n",
        "decoder = Decoder(KP_SIZE, DECODER_HIDDEN_SIZE, KP_SIZE).to(DEVICE)\n",
        "model = Seq2Seq(encoder, decoder).to(DEVICE)"
      ]
    },
    {
      "cell_type": "code",
      "execution_count": null,
      "metadata": {
        "id": "qE2gd25BZrBg"
      },
      "outputs": [],
      "source": [
        "optimizer = optim.Adam(model.parameters(), lr=LR)\n",
        "criterion = nn.MSELoss()"
      ]
    },
    {
      "cell_type": "code",
      "execution_count": null,
      "metadata": {
        "id": "BaNGOKu5-QW8"
      },
      "outputs": [],
      "source": [
        "def fit(model, dataloader):\n",
        "    print('Training')\n",
        "    model.train()\n",
        "    training_running_loss = 0.0\n",
        "\n",
        "    for batch_idx, batch in tqdm(enumerate(dataloader), total=len(dataloader)):\n",
        "        keypoints = batch['keypoints'].to(DEVICE)\n",
        "        audio = batch['audio'].to(DEVICE)\n",
        "\n",
        "        frames_amount = keypoints.shape[1] - 1\n",
        "\n",
        "        optimizer.zero_grad()\n",
        "        outputs = model(audio, keypoints)\n",
        "\n",
        "        loss = torch.div(criterion(outputs, keypoints[:, 1:]), frames_amount)\n",
        "        training_running_loss += loss\n",
        "        loss.backward()\n",
        "        optimizer.step()\n",
        "\n",
        "    return training_running_loss / len(dataloader)"
      ]
    },
    {
      "cell_type": "code",
      "execution_count": null,
      "metadata": {
        "id": "GN8ioFEEgPn3"
      },
      "outputs": [],
      "source": [
        "def validate(model, dataloader):\n",
        "    print('Validating')\n",
        "    model.eval()\n",
        "    valid_running_loss = 0.0\n",
        "\n",
        "    with torch.no_grad():\n",
        "        for batch_idx, batch in tqdm(enumerate(dataloader), total=len(dataloader)):\n",
        "            keypoints = batch['keypoints'].to(DEVICE)\n",
        "            audio = batch['audio'].to(DEVICE)\n",
        "\n",
        "            frames_amount = keypoints.shape[1] - 1\n",
        "\n",
        "            optimizer.zero_grad()\n",
        "            outputs = model(audio, keypoints)\n",
        "\n",
        "            loss = torch.div(criterion(outputs, keypoints[:, 1:]), frames_amount)\n",
        "            valid_running_loss += loss\n",
        "\n",
        "    return valid_running_loss / len(dataloader)"
      ]
    },
    {
      "cell_type": "code",
      "execution_count": null,
      "metadata": {
        "id": "V2opK6I1ZOS2"
      },
      "outputs": [],
      "source": [
        "train_loss = []\n",
        "valid_loss = []\n",
        "\n",
        "val_epoch_loss = validate(model, valid_loader)\n",
        "print(f'First Val Loss: {val_epoch_loss:.2f}')\n",
        "print('-------------------------')\n",
        "for epoch in range(EPOCH):\n",
        "    print(f\"Epoch {epoch + 1} of {EPOCH}\")\n",
        "    train_epoch_loss = fit(model, train_loader)\n",
        "    val_epoch_loss = validate(model, valid_loader)\n",
        "    train_loss.append(train_loss)\n",
        "    valid_loss.append(val_epoch_loss)\n",
        "\n",
        "    torch.save({\n",
        "        'epoch': epoch,\n",
        "        'model_state_dict': model.state_dict(),\n",
        "        'optimizer_state_dict': optimizer.state_dict(),\n",
        "        'loss': criterion,\n",
        "    }, f\"{ROOT_PATH}/models/audio_to_keypoints.pth\")\n",
        "\n",
        "    print(f'Training Loss: {train_epoch_loss:.2f}')\n",
        "    print(f'Val Loss: {val_epoch_loss:.2f}')"
      ]
    },
    {
      "cell_type": "code",
      "execution_count": null,
      "metadata": {
        "id": "7L47_KiBc9zP"
      },
      "outputs": [],
      "source": [
        "plt.figure(figsize=(10, 7))\n",
        "plt.plot(train_loss, color='orange', label='train loss')\n",
        "plt.plot(valid_loss, color='red', label='validataion loss')\n",
        "plt.xlabel('Epochs')\n",
        "plt.ylabel('Loss')\n",
        "plt.legend()\n",
        "plt.show()\n",
        "print('DONE TRAINING')"
      ]
    },
    {
      "cell_type": "code",
      "source": [
        "def load_model(file_name):\n",
        "    full_path = f'{ROOT_PATH}/models/{file_name}'\n",
        "\n",
        "    encoder = Encoder(SPF, ENCODER_HIDDEN_SIZE).to(DEVICE)\n",
        "    decoder = Decoder(KP_SIZE, DECODER_HIDDEN_SIZE, KP_SIZE).to(DEVICE)\n",
        "    model = Seq2Seq(encoder, decoder).to(DEVICE)\n",
        "    # load the model checkpoint\n",
        "    print('Load model ->', full_path)\n",
        "    checkpoint = torch.load(full_path)\n",
        "    # load model weights state_dict\n",
        "    model.load_state_dict(checkpoint['model_state_dict'])\n",
        "    model.eval()\n",
        "    return model"
      ],
      "metadata": {
        "id": "Db_JQoInNUSO"
      },
      "execution_count": null,
      "outputs": []
    },
    {
      "cell_type": "code",
      "source": [
        "def save_video(np_video, name='temp'):\n",
        "    frames = len(np_video)\n",
        "    path = f'{DOWNLOADS_PATH}/Temp/video_samples/{name}.webm'\n",
        "\n",
        "    fourcc = cv2.VideoWriter_fourcc(*'VP90')\n",
        "    out = cv2.VideoWriter(path, fourcc, FPS, (IMAGE_SIZE, IMAGE_SIZE))\n",
        "    for frame in np_video:\n",
        "        out.write(frame)\n",
        "    out.release()\n",
        "\n",
        "def add_keypoints_to_video(video, keypoints, color=(0, 0, 255)):\n",
        "    frames = []\n",
        "\n",
        "    for i, frame in enumerate(video):\n",
        "        for points in keypoints[i].reshape(-1, 2):\n",
        "            x, y = points[0], points[1]\n",
        "            frame = cv2.circle(frame, (x, y), radius=1, color=color, thickness=-1)\n",
        "        frames.append(frame)\n",
        "\n",
        "    frames = np.array(frames, dtype='uint8')\n",
        "    return frames"
      ],
      "metadata": {
        "id": "0BlJSzfzsft1"
      },
      "execution_count": null,
      "outputs": []
    },
    {
      "cell_type": "code",
      "source": [
        "model = load_model('audio_to_keypoints.pth')"
      ],
      "metadata": {
        "id": "1sGSWNVwCPaf"
      },
      "execution_count": null,
      "outputs": []
    },
    {
      "cell_type": "code",
      "source": [
        "path = 'drive/MyDrive/Downloads/Temp/video_samples/temp.webm'\n",
        "webm = open(path,'rb').read()\n",
        "data_url = \"data:video/webm;base64,\" + b64encode(webm).decode()\n",
        "HTML(\"\"\"\n",
        "<video width=400 controls>\n",
        "      <source src=\"%s\" type=\"video/webm\">\n",
        "</video>\n",
        "\"\"\" % data_url)"
      ],
      "metadata": {
        "id": "XagJXiWI9XkM"
      },
      "execution_count": null,
      "outputs": []
    },
    {
      "cell_type": "code",
      "source": [
        "path = 'drive/MyDrive/Downloads/Temp/video_samples/temp.mp4'\n",
        "mp4 = open(path,'rb').read()\n",
        "data_url = \"data:video/mp4;base64,\" + b64encode(mp4).decode()\n",
        "HTML(\"\"\"\n",
        "<video width=400 controls>\n",
        "      <source src=\"%s\" type=\"video/mp4\">\n",
        "</video>\n",
        "\"\"\" % data_url)"
      ],
      "metadata": {
        "id": "YBoQ66-3z3ba"
      },
      "execution_count": null,
      "outputs": []
    },
    {
      "cell_type": "code",
      "source": [
        "SAMPLE_NUM = 2\n",
        "\n",
        "samples = get_samples(VAL_DATASET_PATH)\n",
        "val_dataset = AudioKeypointDataset(samples=samples[SAMPLE_NUM: SAMPLE_NUM + 1], \n",
        "                                   path=VAL_DATASET_PATH, \n",
        "                                   use_video=True)\n",
        "val_loader = DataLoader(val_dataset, \n",
        "                        batch_size=BATCH_SIZE, \n",
        "                        shuffle=False)\n",
        "\n",
        "new_sample = None\n",
        "for sample in val_loader:\n",
        "    audio = sample['audio'].to(DEVICE)\n",
        "    keypoints = sample['keypoints'].to(DEVICE)\n",
        "    result = model(audio, keypoints)\n",
        "\n",
        "    new_keypoints = result.to('cpu').detach().numpy()\n",
        "\n",
        "    new_sample = {\n",
        "        'new_keypoints': new_keypoints[0],\n",
        "        'video': sample['video'].detach().numpy()[0, 1:, :, :, :],\n",
        "        'basic_keypoints': keypoints[0, 1:, :]\n",
        "    }\n",
        "    break\n",
        "\n",
        "print(new_sample['basic_keypoints'].shape, new_sample['new_keypoints'].shape)\n",
        "frames = add_keypoints_to_video(new_sample['video'], new_sample['basic_keypoints'])\n",
        "frames = add_keypoints_to_video(new_sample['video'], new_sample['new_keypoints'], color=(0, 255, 0))\n",
        "\n",
        "save_video(frames)"
      ],
      "metadata": {
        "id": "o31fLi0NKeUs"
      },
      "execution_count": null,
      "outputs": []
    },
    {
      "cell_type": "code",
      "source": [
        ""
      ],
      "metadata": {
        "id": "nd6xBLjyKvMf"
      },
      "execution_count": null,
      "outputs": []
    }
  ],
  "metadata": {
    "accelerator": "GPU",
    "colab": {
      "machine_shape": "hm",
      "name": "Simple_LSTM.ipynb",
      "provenance": [],
      "collapsed_sections": [],
      "mount_file_id": "1MkNmJ2v-NVtEugLhzhL2yHHfNQB3mvyf",
      "authorship_tag": "ABX9TyMTTVyUtDVsQozs6CD32sFU",
      "include_colab_link": true
    },
    "kernelspec": {
      "display_name": "Python 3",
      "name": "python3"
    },
    "language_info": {
      "name": "python"
    }
  },
  "nbformat": 4,
  "nbformat_minor": 0
}